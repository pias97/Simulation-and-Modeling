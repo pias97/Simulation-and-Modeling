{
  "nbformat": 4,
  "nbformat_minor": 0,
  "metadata": {
    "colab": {
      "name": "Problem2.ipynb",
      "provenance": []
    },
    "kernelspec": {
      "name": "python3",
      "display_name": "Python 3"
    },
    "language_info": {
      "name": "python"
    }
  },
  "cells": [
    {
      "cell_type": "markdown",
      "metadata": {
        "id": "seNjmBW00pzr"
      },
      "source": [
        "#Library"
      ]
    },
    {
      "cell_type": "code",
      "metadata": {
        "id": "N4cQenuh0ZIS"
      },
      "source": [
        "import random\n",
        "import math\n",
        "from math import exp\n",
        "import matplotlib.pyplot as plt"
      ],
      "execution_count": 2,
      "outputs": []
    },
    {
      "cell_type": "markdown",
      "metadata": {
        "id": "LJ2t9EGK0tGG"
      },
      "source": [
        "#For Area"
      ]
    },
    {
      "cell_type": "code",
      "metadata": {
        "colab": {
          "base_uri": "https://localhost:8080/"
        },
        "id": "amUNG1CC0jQO",
        "outputId": "aad53001-d616-4853-ef64-7c38a76eb685"
      },
      "source": [
        "random.seed(20)\n",
        "n=[100,1000,5000,10000]\n",
        "a1=0\n",
        "b1=4\n",
        "a2=4\n",
        "b2=8\n",
        "error1_array=[]\n",
        "error2_array=[]\n",
        "for trials in n:\n",
        "  func1_sum=0 # f_avg\n",
        "  func2_sum=0 # f_avg\n",
        "  func1_square_sum=0 # f_square_avg\n",
        "  func2_square_sum=0 # f_square_avg\n",
        "\n",
        "  for i in range(trials):\n",
        "    #randomly pick a value of x between a and b\n",
        "     x1= random.uniform(a1,b1)\n",
        "     x2= random.uniform(a2,b2)\n",
        "    #find f(x) value\n",
        "    #Equation (i) and (ii)\n",
        "     h1= 4*x1\n",
        "     h2= 8-x2\n",
        "    #func_sum update\n",
        "     func1_sum += h1\n",
        "     func2_sum += h2\n",
        "     func1_square_sum += (h1**2)\n",
        "     func2_square_sum += (h2**2)\n",
        "    #func_squared_sum update\n",
        "  \n",
        "  func1_average=func1_sum/trials\n",
        "  func2_average=func2_sum/trials\n",
        "  func1_squared_average=func1_square_sum/trials\n",
        "  func2_squared_average=func2_square_sum/trials\n",
        "  print(\"Function 1 average(4x):-\")\n",
        "  print(func1_average, func1_squared_average, \" :: err\")\n",
        "  print(\"Function 2 average(8-x):-\")\n",
        "  print(func2_average, func2_squared_average, \" :: err\")\n",
        "  integral1_value=func1_average*(b1-a1) \n",
        "  integral2_value=func2_average*(b2-a2) \n",
        " \n",
        "  error1=((b1-a1)/math.sqrt(trials))*(math.sqrt(func1_squared_average - (func1_average**2) ))\n",
        "  error2=((b2-a2)/math.sqrt(trials))*(math.sqrt(func2_squared_average - (func2_average**2) ))\n",
        "  error1_array.append(error1)\n",
        "  error2_array.append(error2)\n",
        "  print(\"For number of points= \", trials)\n",
        "  print(\"Integral value of Function 1(4x): \",integral1_value)\n",
        "  print(\"Integral value of Function 2(8-x): \",integral2_value)\n",
        "  print(\"Integral value of Function 1(4x):\", error1)\n",
        "  print(\"Integral value of Function 1(8-x):\", error2)\n",
        "  print(\"-----------------------------------------------------------------------------------------------------\")"
      ],
      "execution_count": 3,
      "outputs": [
        {
          "output_type": "stream",
          "text": [
            "Function 1 average(4x):-\n",
            "7.384882504816407 76.72369571728375  :: err\n",
            "Function 2 average(8-x):-\n",
            "2.1194036361352495 5.8633412285290465  :: err\n",
            "For number of points=  100\n",
            "Integral value of Function 1(4x):  29.539530019265626\n",
            "Integral value of Function 2(8-x):  8.477614544540998\n",
            "Integral value of Function 1(4x): 1.88413188953811\n",
            "Integral value of Function 1(8-x): 0.46843901727601295\n",
            "-----------------------------------------------------------------------------------------------------\n",
            "Function 1 average(4x):-\n",
            "7.763357862477721 82.6705233269552  :: err\n",
            "Function 2 average(8-x):-\n",
            "1.982854088686318 5.331515649066409  :: err\n",
            "For number of points=  1000\n",
            "Integral value of Function 1(4x):  31.053431449910885\n",
            "Integral value of Function 2(8-x):  7.931416354745272\n",
            "Integral value of Function 1(4x): 0.5986758458606534\n",
            "Integral value of Function 1(8-x): 0.14965588860028783\n",
            "-----------------------------------------------------------------------------------------------------\n",
            "Function 1 average(4x):-\n",
            "7.964554476927793 84.88150140064803  :: err\n",
            "Function 2 average(8-x):-\n",
            "1.9832945529971349 5.262859745564903  :: err\n",
            "For number of points=  5000\n",
            "Integral value of Function 1(4x):  31.858217907711172\n",
            "Integral value of Function 2(8-x):  7.9331782119885395\n",
            "Integral value of Function 1(4x): 0.26197632494374745\n",
            "Integral value of Function 1(8-x): 0.06522336910321141\n",
            "-----------------------------------------------------------------------------------------------------\n",
            "Function 1 average(4x):-\n",
            "8.06319374113131 86.38005419308251  :: err\n",
            "Function 2 average(8-x):-\n",
            "2.0217275367847463 5.421487362553599  :: err\n",
            "For number of points=  10000\n",
            "Integral value of Function 1(4x):  32.25277496452524\n",
            "Integral value of Function 2(8-x):  8.086910147138985\n",
            "Integral value of Function 1(4x): 0.18488898673988519\n",
            "Integral value of Function 1(8-x): 0.04620138750401128\n",
            "-----------------------------------------------------------------------------------------------------\n"
          ],
          "name": "stdout"
        }
      ]
    },
    {
      "cell_type": "markdown",
      "metadata": {
        "id": "f4UULu481m7D"
      },
      "source": [
        "#For Function (ii)"
      ]
    }
  ]
}