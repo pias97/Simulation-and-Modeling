{
  "nbformat": 4,
  "nbformat_minor": 0,
  "metadata": {
    "language_info": {
      "codemirror_mode": {
        "name": "ipython",
        "version": 3
      },
      "file_extension": ".py",
      "mimetype": "text/x-python",
      "name": "python",
      "nbconvert_exporter": "python",
      "pygments_lexer": "ipython3",
      "version": "3.9.1-final"
    },
    "orig_nbformat": 2,
    "kernelspec": {
      "name": "python3",
      "display_name": "Python 3.9.1 64-bit",
      "metadata": {
        "interpreter": {
          "hash": "34ee6b6594f14e10693ab876e083ba4b1a902c601c6299651a362747723f8f06"
        }
      }
    },
    "colab": {
      "name": "Problem1.ipynb",
      "provenance": []
    }
  },
  "cells": [
    {
      "cell_type": "markdown",
      "metadata": {
        "id": "2TyAJF39u4iW"
      },
      "source": [
        "#Library"
      ]
    },
    {
      "cell_type": "code",
      "metadata": {
        "id": "nrtyoSU6uw6J"
      },
      "source": [
        "import random\n",
        "import math\n",
        "from math import exp\n",
        "import matplotlib.pyplot as plt"
      ],
      "execution_count": null,
      "outputs": []
    },
    {
      "cell_type": "markdown",
      "metadata": {
        "id": "OL6umAqcu8Ep"
      },
      "source": [
        "#Main Segment"
      ]
    },
    {
      "cell_type": "code",
      "metadata": {
        "id": "VKZENgGuuiAY",
        "colab": {
          "base_uri": "https://localhost:8080/"
        },
        "outputId": "abbaa813-9e8f-47f5-c7ed-ff996cdae251"
      },
      "source": [
        "random.seed(20)\n",
        "n=[100,1000,5000,10000]\n",
        "a=0\n",
        "b=1\n",
        "error_array=[]\n",
        "for trials in n:\n",
        "  func_sum=0 # f_avg\n",
        "  func_square_sum=0 # f_square_avg\n",
        "\n",
        "  for i in range(trials):\n",
        "    #randomly pick a value of x between a and b\n",
        "     x= random.uniform(a,b)\n",
        "    #find f(x) value\n",
        "    # x2 e-xln(x+2)\n",
        "     #h= pow(x,2)*pow(math.e, -x)*math.log(x+2)\n",
        "     h = (x**2)*math.exp(-x)*math.log(x+2)\n",
        "    #func_sum update\n",
        "     func_sum += h\n",
        "     func_square_sum += (h**2)\n",
        "    #func_squared_sum update\n",
        "  \n",
        "  func_average=func_sum/trials\n",
        "  func_squared_average=func_square_sum/trials\n",
        "  print(func_average, func_squared_average, \" :: err\")\n",
        "  integral_value=func_average*(b-a) \n",
        " \n",
        "  error=((b-a)/math.sqrt(trials))*(math.sqrt(func_squared_average - (func_average**2) ))\n",
        "  error_array.append(error)\n",
        "  print(\"For number of points= \", trials)\n",
        "  print(\"Integral value: \",integral_value)\n",
        "  print(\"Error:\", error)\n",
        "  print(\"\")"
      ],
      "execution_count": null,
      "outputs": [
        {
          "output_type": "stream",
          "text": [
            "0.13721434108329672 0.03476464150132635  :: err\n",
            "For number of points=  100\n",
            "Integral value:  0.13721434108329672\n",
            "Error: 0.012624130109596883\n",
            "\n",
            "0.15834394416252354 0.041572156346204855  :: err\n",
            "For number of points=  1000\n",
            "Integral value:  0.15834394416252354\n",
            "Error: 0.0040619394004909135\n",
            "\n",
            "0.16191799734194876 0.04232909666684074  :: err\n",
            "For number of points=  5000\n",
            "Integral value:  0.16191799734194876\n",
            "Error: 0.0017950854466355307\n",
            "\n",
            "0.15839835683138664 0.04094970805322132  :: err\n",
            "For number of points=  10000\n",
            "Integral value:  0.15839835683138664\n",
            "Error: 0.0012593517620719807\n",
            "\n"
          ],
          "name": "stdout"
        }
      ]
    },
    {
      "cell_type": "markdown",
      "metadata": {
        "id": "ZYBNI-Q9zJEj"
      },
      "source": [
        "#Bar Plot"
      ]
    },
    {
      "cell_type": "code",
      "metadata": {
        "colab": {
          "base_uri": "https://localhost:8080/",
          "height": 279
        },
        "id": "N54sBaZrvIoU",
        "outputId": "36c23beb-aa1e-4b65-8c09-67e92feaf6bc"
      },
      "source": [
        "x2=[\"100\", \"1000\", \"5000\", \"10000\"]\n",
        "plt.bar(x2,error_array,color=\"green\")\n",
        "plt.xlabel(\"Value of n\")\n",
        "plt.ylabel(\"Error estimate\")\n",
        "plt.show()"
      ],
      "execution_count": null,
      "outputs": [
        {
          "output_type": "display_data",
          "data": {
            "image/png": "[encoded data removed]",
            "text/plain": [
              "<Figure size 432x288 with 1 Axes>"
            ]
          },
          "metadata": {
            "tags": [],
            "needs_background": "light"
          }
        }
      ]
    },
    {
      "cell_type": "code",
      "metadata": {
        "id": "JO3pmpBvuiAk"
      },
      "source": [
        ""
      ],
      "execution_count": null,
      "outputs": []
    }
  ]
}